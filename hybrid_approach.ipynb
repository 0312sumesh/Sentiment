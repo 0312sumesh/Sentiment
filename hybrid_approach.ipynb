{
  "nbformat": 4,
  "nbformat_minor": 0,
  "metadata": {
    "colab": {
      "provenance": []
    },
    "kernelspec": {
      "name": "python3",
      "display_name": "Python 3"
    },
    "language_info": {
      "name": "python"
    }
  },
  "cells": [
    {
      "cell_type": "code",
      "execution_count": 1,
      "metadata": {
        "id": "knu6gkzC494r"
      },
      "outputs": [],
      "source": [
        "import numpy as np\n",
        "import pandas as pd\n",
        "\n",
        "import matplotlib.pyplot as plt\n",
        "import seaborn as sns\n",
        "from string import punctuation\n",
        "from nltk.tokenize import word_tokenize\n",
        "from nltk.stem.snowball import SnowballStemmer\n",
        "from nltk.stem import LancasterStemmer\n",
        "from string import punctuation\n",
        "from nltk.corpus import stopwords\n",
        "from nltk.tokenize import word_tokenize\n",
        "from nltk.stem import LancasterStemmer\n",
        "from nltk.stem.wordnet import WordNetLemmatizer\n",
        "import re"
      ]
    },
    {
      "cell_type": "code",
      "source": [
        "from google.colab import drive\n",
        "drive.mount('/content/drive')"
      ],
      "metadata": {
        "colab": {
          "base_uri": "https://localhost:8080/"
        },
        "id": "fCQCj7mJ5DMG",
        "outputId": "d25d6171-6862-46e9-d5a4-9eddc1d44684"
      },
      "execution_count": 2,
      "outputs": [
        {
          "output_type": "stream",
          "name": "stdout",
          "text": [
            "Mounted at /content/drive\n"
          ]
        }
      ]
    },
    {
      "cell_type": "code",
      "source": [
        "import pandas as pd\n",
        "\n",
        "columns = ['sentiment', 'tweets']\n",
        "\n",
        "# Read the dataset with specified column names\n",
        "df_train = pd.read_csv(\"/content/drive/MyDrive/training.csv\", header=None, names=columns)\n",
        "\n",
        "# Display the first few rows of the dataframe\n",
        "df_train.head()"
      ],
      "metadata": {
        "colab": {
          "base_uri": "https://localhost:8080/",
          "height": 206
        },
        "id": "WelKlBPt5JIz",
        "outputId": "6338e74b-c771-4188-e2ad-73bfa1242aa8"
      },
      "execution_count": 3,
      "outputs": [
        {
          "output_type": "execute_result",
          "data": {
            "text/plain": [
              "   sentiment                                             tweets\n",
              "1          0                       is so sad for my APL frie...\n",
              "2          0                     I missed the New Moon trail...\n",
              "3          1                            omg its already 7:30 :O\n",
              "4          0            .. Omgaga. Im sooo  im gunna CRy. I'...\n",
              "5          0           i think mi bf is cheating on me!!!   ..."
            ],
            "text/html": [
              "\n",
              "  <div id=\"df-5b453152-efc4-4f36-b169-c084a3d0554b\" class=\"colab-df-container\">\n",
              "    <div>\n",
              "<style scoped>\n",
              "    .dataframe tbody tr th:only-of-type {\n",
              "        vertical-align: middle;\n",
              "    }\n",
              "\n",
              "    .dataframe tbody tr th {\n",
              "        vertical-align: top;\n",
              "    }\n",
              "\n",
              "    .dataframe thead th {\n",
              "        text-align: right;\n",
              "    }\n",
              "</style>\n",
              "<table border=\"1\" class=\"dataframe\">\n",
              "  <thead>\n",
              "    <tr style=\"text-align: right;\">\n",
              "      <th></th>\n",
              "      <th>sentiment</th>\n",
              "      <th>tweets</th>\n",
              "    </tr>\n",
              "  </thead>\n",
              "  <tbody>\n",
              "    <tr>\n",
              "      <th>1</th>\n",
              "      <td>0</td>\n",
              "      <td>is so sad for my APL frie...</td>\n",
              "    </tr>\n",
              "    <tr>\n",
              "      <th>2</th>\n",
              "      <td>0</td>\n",
              "      <td>I missed the New Moon trail...</td>\n",
              "    </tr>\n",
              "    <tr>\n",
              "      <th>3</th>\n",
              "      <td>1</td>\n",
              "      <td>omg its already 7:30 :O</td>\n",
              "    </tr>\n",
              "    <tr>\n",
              "      <th>4</th>\n",
              "      <td>0</td>\n",
              "      <td>.. Omgaga. Im sooo  im gunna CRy. I'...</td>\n",
              "    </tr>\n",
              "    <tr>\n",
              "      <th>5</th>\n",
              "      <td>0</td>\n",
              "      <td>i think mi bf is cheating on me!!!   ...</td>\n",
              "    </tr>\n",
              "  </tbody>\n",
              "</table>\n",
              "</div>\n",
              "    <div class=\"colab-df-buttons\">\n",
              "\n",
              "  <div class=\"colab-df-container\">\n",
              "    <button class=\"colab-df-convert\" onclick=\"convertToInteractive('df-5b453152-efc4-4f36-b169-c084a3d0554b')\"\n",
              "            title=\"Convert this dataframe to an interactive table.\"\n",
              "            style=\"display:none;\">\n",
              "\n",
              "  <svg xmlns=\"http://www.w3.org/2000/svg\" height=\"24px\" viewBox=\"0 -960 960 960\">\n",
              "    <path d=\"M120-120v-720h720v720H120Zm60-500h600v-160H180v160Zm220 220h160v-160H400v160Zm0 220h160v-160H400v160ZM180-400h160v-160H180v160Zm440 0h160v-160H620v160ZM180-180h160v-160H180v160Zm440 0h160v-160H620v160Z\"/>\n",
              "  </svg>\n",
              "    </button>\n",
              "\n",
              "  <style>\n",
              "    .colab-df-container {\n",
              "      display:flex;\n",
              "      gap: 12px;\n",
              "    }\n",
              "\n",
              "    .colab-df-convert {\n",
              "      background-color: #E8F0FE;\n",
              "      border: none;\n",
              "      border-radius: 50%;\n",
              "      cursor: pointer;\n",
              "      display: none;\n",
              "      fill: #1967D2;\n",
              "      height: 32px;\n",
              "      padding: 0 0 0 0;\n",
              "      width: 32px;\n",
              "    }\n",
              "\n",
              "    .colab-df-convert:hover {\n",
              "      background-color: #E2EBFA;\n",
              "      box-shadow: 0px 1px 2px rgba(60, 64, 67, 0.3), 0px 1px 3px 1px rgba(60, 64, 67, 0.15);\n",
              "      fill: #174EA6;\n",
              "    }\n",
              "\n",
              "    .colab-df-buttons div {\n",
              "      margin-bottom: 4px;\n",
              "    }\n",
              "\n",
              "    [theme=dark] .colab-df-convert {\n",
              "      background-color: #3B4455;\n",
              "      fill: #D2E3FC;\n",
              "    }\n",
              "\n",
              "    [theme=dark] .colab-df-convert:hover {\n",
              "      background-color: #434B5C;\n",
              "      box-shadow: 0px 1px 3px 1px rgba(0, 0, 0, 0.15);\n",
              "      filter: drop-shadow(0px 1px 2px rgba(0, 0, 0, 0.3));\n",
              "      fill: #FFFFFF;\n",
              "    }\n",
              "  </style>\n",
              "\n",
              "    <script>\n",
              "      const buttonEl =\n",
              "        document.querySelector('#df-5b453152-efc4-4f36-b169-c084a3d0554b button.colab-df-convert');\n",
              "      buttonEl.style.display =\n",
              "        google.colab.kernel.accessAllowed ? 'block' : 'none';\n",
              "\n",
              "      async function convertToInteractive(key) {\n",
              "        const element = document.querySelector('#df-5b453152-efc4-4f36-b169-c084a3d0554b');\n",
              "        const dataTable =\n",
              "          await google.colab.kernel.invokeFunction('convertToInteractive',\n",
              "                                                    [key], {});\n",
              "        if (!dataTable) return;\n",
              "\n",
              "        const docLinkHtml = 'Like what you see? Visit the ' +\n",
              "          '<a target=\"_blank\" href=https://colab.research.google.com/notebooks/data_table.ipynb>data table notebook</a>'\n",
              "          + ' to learn more about interactive tables.';\n",
              "        element.innerHTML = '';\n",
              "        dataTable['output_type'] = 'display_data';\n",
              "        await google.colab.output.renderOutput(dataTable, element);\n",
              "        const docLink = document.createElement('div');\n",
              "        docLink.innerHTML = docLinkHtml;\n",
              "        element.appendChild(docLink);\n",
              "      }\n",
              "    </script>\n",
              "  </div>\n",
              "\n",
              "\n",
              "<div id=\"df-e9f03189-da3b-48e1-9e1e-e3b4358de601\">\n",
              "  <button class=\"colab-df-quickchart\" onclick=\"quickchart('df-e9f03189-da3b-48e1-9e1e-e3b4358de601')\"\n",
              "            title=\"Suggest charts\"\n",
              "            style=\"display:none;\">\n",
              "\n",
              "<svg xmlns=\"http://www.w3.org/2000/svg\" height=\"24px\"viewBox=\"0 0 24 24\"\n",
              "     width=\"24px\">\n",
              "    <g>\n",
              "        <path d=\"M19 3H5c-1.1 0-2 .9-2 2v14c0 1.1.9 2 2 2h14c1.1 0 2-.9 2-2V5c0-1.1-.9-2-2-2zM9 17H7v-7h2v7zm4 0h-2V7h2v10zm4 0h-2v-4h2v4z\"/>\n",
              "    </g>\n",
              "</svg>\n",
              "  </button>\n",
              "\n",
              "<style>\n",
              "  .colab-df-quickchart {\n",
              "      --bg-color: #E8F0FE;\n",
              "      --fill-color: #1967D2;\n",
              "      --hover-bg-color: #E2EBFA;\n",
              "      --hover-fill-color: #174EA6;\n",
              "      --disabled-fill-color: #AAA;\n",
              "      --disabled-bg-color: #DDD;\n",
              "  }\n",
              "\n",
              "  [theme=dark] .colab-df-quickchart {\n",
              "      --bg-color: #3B4455;\n",
              "      --fill-color: #D2E3FC;\n",
              "      --hover-bg-color: #434B5C;\n",
              "      --hover-fill-color: #FFFFFF;\n",
              "      --disabled-bg-color: #3B4455;\n",
              "      --disabled-fill-color: #666;\n",
              "  }\n",
              "\n",
              "  .colab-df-quickchart {\n",
              "    background-color: var(--bg-color);\n",
              "    border: none;\n",
              "    border-radius: 50%;\n",
              "    cursor: pointer;\n",
              "    display: none;\n",
              "    fill: var(--fill-color);\n",
              "    height: 32px;\n",
              "    padding: 0;\n",
              "    width: 32px;\n",
              "  }\n",
              "\n",
              "  .colab-df-quickchart:hover {\n",
              "    background-color: var(--hover-bg-color);\n",
              "    box-shadow: 0 1px 2px rgba(60, 64, 67, 0.3), 0 1px 3px 1px rgba(60, 64, 67, 0.15);\n",
              "    fill: var(--button-hover-fill-color);\n",
              "  }\n",
              "\n",
              "  .colab-df-quickchart-complete:disabled,\n",
              "  .colab-df-quickchart-complete:disabled:hover {\n",
              "    background-color: var(--disabled-bg-color);\n",
              "    fill: var(--disabled-fill-color);\n",
              "    box-shadow: none;\n",
              "  }\n",
              "\n",
              "  .colab-df-spinner {\n",
              "    border: 2px solid var(--fill-color);\n",
              "    border-color: transparent;\n",
              "    border-bottom-color: var(--fill-color);\n",
              "    animation:\n",
              "      spin 1s steps(1) infinite;\n",
              "  }\n",
              "\n",
              "  @keyframes spin {\n",
              "    0% {\n",
              "      border-color: transparent;\n",
              "      border-bottom-color: var(--fill-color);\n",
              "      border-left-color: var(--fill-color);\n",
              "    }\n",
              "    20% {\n",
              "      border-color: transparent;\n",
              "      border-left-color: var(--fill-color);\n",
              "      border-top-color: var(--fill-color);\n",
              "    }\n",
              "    30% {\n",
              "      border-color: transparent;\n",
              "      border-left-color: var(--fill-color);\n",
              "      border-top-color: var(--fill-color);\n",
              "      border-right-color: var(--fill-color);\n",
              "    }\n",
              "    40% {\n",
              "      border-color: transparent;\n",
              "      border-right-color: var(--fill-color);\n",
              "      border-top-color: var(--fill-color);\n",
              "    }\n",
              "    60% {\n",
              "      border-color: transparent;\n",
              "      border-right-color: var(--fill-color);\n",
              "    }\n",
              "    80% {\n",
              "      border-color: transparent;\n",
              "      border-right-color: var(--fill-color);\n",
              "      border-bottom-color: var(--fill-color);\n",
              "    }\n",
              "    90% {\n",
              "      border-color: transparent;\n",
              "      border-bottom-color: var(--fill-color);\n",
              "    }\n",
              "  }\n",
              "</style>\n",
              "\n",
              "  <script>\n",
              "    async function quickchart(key) {\n",
              "      const quickchartButtonEl =\n",
              "        document.querySelector('#' + key + ' button');\n",
              "      quickchartButtonEl.disabled = true;  // To prevent multiple clicks.\n",
              "      quickchartButtonEl.classList.add('colab-df-spinner');\n",
              "      try {\n",
              "        const charts = await google.colab.kernel.invokeFunction(\n",
              "            'suggestCharts', [key], {});\n",
              "      } catch (error) {\n",
              "        console.error('Error during call to suggestCharts:', error);\n",
              "      }\n",
              "      quickchartButtonEl.classList.remove('colab-df-spinner');\n",
              "      quickchartButtonEl.classList.add('colab-df-quickchart-complete');\n",
              "    }\n",
              "    (() => {\n",
              "      let quickchartButtonEl =\n",
              "        document.querySelector('#df-e9f03189-da3b-48e1-9e1e-e3b4358de601 button');\n",
              "      quickchartButtonEl.style.display =\n",
              "        google.colab.kernel.accessAllowed ? 'block' : 'none';\n",
              "    })();\n",
              "  </script>\n",
              "</div>\n",
              "    </div>\n",
              "  </div>\n"
            ]
          },
          "metadata": {},
          "execution_count": 3
        }
      ]
    },
    {
      "cell_type": "markdown",
      "source": [
        "# Preprocessing"
      ],
      "metadata": {
        "id": "svkVKMSbKCUD"
      }
    },
    {
      "cell_type": "code",
      "source": [
        "df = df_train"
      ],
      "metadata": {
        "id": "AIRcyHvl7hHq"
      },
      "execution_count": 4,
      "outputs": []
    },
    {
      "cell_type": "code",
      "source": [
        "df['sentiment'].value_counts()"
      ],
      "metadata": {
        "colab": {
          "base_uri": "https://localhost:8080/"
        },
        "id": "6ItQGjeD7kKm",
        "outputId": "220aba03-efc4-46d2-c2c7-5aa88e8cf31a"
      },
      "execution_count": 5,
      "outputs": [
        {
          "output_type": "execute_result",
          "data": {
            "text/plain": [
              "0    387\n",
              "1    179\n",
              "Name: sentiment, dtype: int64"
            ]
          },
          "metadata": {},
          "execution_count": 5
        }
      ]
    },
    {
      "cell_type": "code",
      "source": [
        "import seaborn as sns\n",
        "import matplotlib.pyplot as plt\n",
        "\n",
        "sns.histplot(df['sentiment'],kde=True)"
      ],
      "metadata": {
        "colab": {
          "base_uri": "https://localhost:8080/",
          "height": 466
        },
        "id": "2WhZpdtu7mV3",
        "outputId": "461b3cd8-28dd-47cb-8a40-9611bc28ba5f"
      },
      "execution_count": 6,
      "outputs": [
        {
          "output_type": "execute_result",
          "data": {
            "text/plain": [
              "<Axes: xlabel='sentiment', ylabel='Count'>"
            ]
          },
          "metadata": {},
          "execution_count": 6
        },
        {
          "output_type": "display_data",
          "data": {
            "text/plain": [
              "<Figure size 640x480 with 1 Axes>"
            ],
            "image/png": "[encoded data removed]"
          },
          "metadata": {}
        }
      ]
    },
    {
      "cell_type": "code",
      "source": [
        "sns.countplot(data=df,x='sentiment')\n",
        "plt.title('Distributio of the sentiments')\n",
        "plt.show()"
      ],
      "metadata": {
        "colab": {
          "base_uri": "https://localhost:8080/",
          "height": 472
        },
        "id": "jwD5zlhD7oU6",
        "outputId": "f59eb034-ed0c-43d1-d447-0b381ee18f69"
      },
      "execution_count": 7,
      "outputs": [
        {
          "output_type": "display_data",
          "data": {
            "text/plain": [
              "<Figure size 640x480 with 1 Axes>"
            ],
            "image/png": "[encoded data removed]"
          },
          "metadata": {}
        }
      ]
    },
    {
      "cell_type": "code",
      "source": [
        "import nltk\n",
        "nltk.download('stopwords')"
      ],
      "metadata": {
        "colab": {
          "base_uri": "https://localhost:8080/"
        },
        "id": "K4UiArMy7qNe",
        "outputId": "abe26ba9-0220-4273-91e9-424fd8fefef4"
      },
      "execution_count": 8,
      "outputs": [
        {
          "output_type": "stream",
          "name": "stderr",
          "text": [
            "[nltk_data] Downloading package stopwords to /root/nltk_data...\n",
            "[nltk_data]   Unzipping corpora/stopwords.zip.\n"
          ]
        },
        {
          "output_type": "execute_result",
          "data": {
            "text/plain": [
              "True"
            ]
          },
          "metadata": {},
          "execution_count": 8
        }
      ]
    },
    {
      "cell_type": "code",
      "source": [
        "stuff_to_be_removed = list(stopwords.words('english'))+list(punctuation)\n",
        "stemmer = LancasterStemmer()\n",
        "corpus = df['tweets'].tolist()\n",
        "print(len(corpus))\n",
        "print(corpus[0])"
      ],
      "metadata": {
        "colab": {
          "base_uri": "https://localhost:8080/"
        },
        "id": "BLlmWVwJ7sfc",
        "outputId": "dfccde48-7d1f-40e9-85c8-588587ed1f94"
      },
      "execution_count": 9,
      "outputs": [
        {
          "output_type": "stream",
          "name": "stdout",
          "text": [
            "566\n",
            "                     is so sad for my APL friend.............\n"
          ]
        }
      ]
    },
    {
      "cell_type": "code",
      "source": [
        "import nltk\n",
        "nltk.download('wordnet')"
      ],
      "metadata": {
        "colab": {
          "base_uri": "https://localhost:8080/"
        },
        "id": "kpBdO7-z7uuE",
        "outputId": "81ad25da-e89f-40c9-f9ec-e51b1cd74039"
      },
      "execution_count": 10,
      "outputs": [
        {
          "output_type": "stream",
          "name": "stderr",
          "text": [
            "[nltk_data] Downloading package wordnet to /root/nltk_data...\n"
          ]
        },
        {
          "output_type": "execute_result",
          "data": {
            "text/plain": [
              "True"
            ]
          },
          "metadata": {},
          "execution_count": 10
        }
      ]
    },
    {
      "cell_type": "code",
      "source": [
        "final_corpus = []\n",
        "final_corpus_joined = []\n",
        "for i in df.index:\n",
        "    text = re.sub('[^a-zA-Z]', ' ', df['tweets'][i])\n",
        "    text = text.lower()\n",
        "    text=re.sub(\"&lt;/?.*?&gt;\",\" &lt;&gt; \",text)\n",
        "    text=re.sub(\"(\\\\d|\\\\W)+\",\" \",text)\n",
        "    text = text.split()\n",
        "    lem = WordNetLemmatizer()\n",
        "    text = [lem.lemmatize(word) for word in text  if not word in stuff_to_be_removed]\n",
        "    text1 = \" \".join(text)\n",
        "    final_corpus.append(text)\n",
        "    final_corpus_joined.append(text1)"
      ],
      "metadata": {
        "id": "qoeZZZDe7xBw"
      },
      "execution_count": 11,
      "outputs": []
    },
    {
      "cell_type": "code",
      "source": [
        "data_cleaned = pd.DataFrame()\n",
        "data_cleaned[\"text\"] = final_corpus_joined\n",
        "data_cleaned[\"sentiment\"] = df[\"sentiment\"].values"
      ],
      "metadata": {
        "id": "wLewkClg7zYi"
      },
      "execution_count": 12,
      "outputs": []
    },
    {
      "cell_type": "code",
      "source": [
        "data_eda = pd.DataFrame()\n",
        "data_eda['text'] = final_corpus\n",
        "data_eda['sentiment'] = df['sentiment'].values\n",
        "data_eda.head()"
      ],
      "metadata": {
        "colab": {
          "base_uri": "https://localhost:8080/",
          "height": 206
        },
        "id": "-BZ07VBv71Xe",
        "outputId": "af641792-ae9e-4f11-919b-48d4de6bda2a"
      },
      "execution_count": 13,
      "outputs": [
        {
          "output_type": "execute_result",
          "data": {
            "text/plain": [
              "                                                text  sentiment\n",
              "0                                 [sad, apl, friend]          0\n",
              "1                       [missed, new, moon, trailer]          0\n",
              "2                                     [omg, already]          1\n",
              "3  [omgaga, im, sooo, im, gunna, cry, dentist, si...          0\n",
              "4                          [think, mi, bf, cheating]          0"
            ],
            "text/html": [
              "\n",
              "  <div id=\"df-63823765-39de-47ff-a59d-ee6fea298a80\" class=\"colab-df-container\">\n",
              "    <div>\n",
              "<style scoped>\n",
              "    .dataframe tbody tr th:only-of-type {\n",
              "        vertical-align: middle;\n",
              "    }\n",
              "\n",
              "    .dataframe tbody tr th {\n",
              "        vertical-align: top;\n",
              "    }\n",
              "\n",
              "    .dataframe thead th {\n",
              "        text-align: right;\n",
              "    }\n",
              "</style>\n",
              "<table border=\"1\" class=\"dataframe\">\n",
              "  <thead>\n",
              "    <tr style=\"text-align: right;\">\n",
              "      <th></th>\n",
              "      <th>text</th>\n",
              "      <th>sentiment</th>\n",
              "    </tr>\n",
              "  </thead>\n",
              "  <tbody>\n",
              "    <tr>\n",
              "      <th>0</th>\n",
              "      <td>[sad, apl, friend]</td>\n",
              "      <td>0</td>\n",
              "    </tr>\n",
              "    <tr>\n",
              "      <th>1</th>\n",
              "      <td>[missed, new, moon, trailer]</td>\n",
              "      <td>0</td>\n",
              "    </tr>\n",
              "    <tr>\n",
              "      <th>2</th>\n",
              "      <td>[omg, already]</td>\n",
              "      <td>1</td>\n",
              "    </tr>\n",
              "    <tr>\n",
              "      <th>3</th>\n",
              "      <td>[omgaga, im, sooo, im, gunna, cry, dentist, si...</td>\n",
              "      <td>0</td>\n",
              "    </tr>\n",
              "    <tr>\n",
              "      <th>4</th>\n",
              "      <td>[think, mi, bf, cheating]</td>\n",
              "      <td>0</td>\n",
              "    </tr>\n",
              "  </tbody>\n",
              "</table>\n",
              "</div>\n",
              "    <div class=\"colab-df-buttons\">\n",
              "\n",
              "  <div class=\"colab-df-container\">\n",
              "    <button class=\"colab-df-convert\" onclick=\"convertToInteractive('df-63823765-39de-47ff-a59d-ee6fea298a80')\"\n",
              "            title=\"Convert this dataframe to an interactive table.\"\n",
              "            style=\"display:none;\">\n",
              "\n",
              "  <svg xmlns=\"http://www.w3.org/2000/svg\" height=\"24px\" viewBox=\"0 -960 960 960\">\n",
              "    <path d=\"M120-120v-720h720v720H120Zm60-500h600v-160H180v160Zm220 220h160v-160H400v160Zm0 220h160v-160H400v160ZM180-400h160v-160H180v160Zm440 0h160v-160H620v160ZM180-180h160v-160H180v160Zm440 0h160v-160H620v160Z\"/>\n",
              "  </svg>\n",
              "    </button>\n",
              "\n",
              "  <style>\n",
              "    .colab-df-container {\n",
              "      display:flex;\n",
              "      gap: 12px;\n",
              "    }\n",
              "\n",
              "    .colab-df-convert {\n",
              "      background-color: #E8F0FE;\n",
              "      border: none;\n",
              "      border-radius: 50%;\n",
              "      cursor: pointer;\n",
              "      display: none;\n",
              "      fill: #1967D2;\n",
              "      height: 32px;\n",
              "      padding: 0 0 0 0;\n",
              "      width: 32px;\n",
              "    }\n",
              "\n",
              "    .colab-df-convert:hover {\n",
              "      background-color: #E2EBFA;\n",
              "      box-shadow: 0px 1px 2px rgba(60, 64, 67, 0.3), 0px 1px 3px 1px rgba(60, 64, 67, 0.15);\n",
              "      fill: #174EA6;\n",
              "    }\n",
              "\n",
              "    .colab-df-buttons div {\n",
              "      margin-bottom: 4px;\n",
              "    }\n",
              "\n",
              "    [theme=dark] .colab-df-convert {\n",
              "      background-color: #3B4455;\n",
              "      fill: #D2E3FC;\n",
              "    }\n",
              "\n",
              "    [theme=dark] .colab-df-convert:hover {\n",
              "      background-color: #434B5C;\n",
              "      box-shadow: 0px 1px 3px 1px rgba(0, 0, 0, 0.15);\n",
              "      filter: drop-shadow(0px 1px 2px rgba(0, 0, 0, 0.3));\n",
              "      fill: #FFFFFF;\n",
              "    }\n",
              "  </style>\n",
              "\n",
              "    <script>\n",
              "      const buttonEl =\n",
              "        document.querySelector('#df-63823765-39de-47ff-a59d-ee6fea298a80 button.colab-df-convert');\n",
              "      buttonEl.style.display =\n",
              "        google.colab.kernel.accessAllowed ? 'block' : 'none';\n",
              "\n",
              "      async function convertToInteractive(key) {\n",
              "        const element = document.querySelector('#df-63823765-39de-47ff-a59d-ee6fea298a80');\n",
              "        const dataTable =\n",
              "          await google.colab.kernel.invokeFunction('convertToInteractive',\n",
              "                                                    [key], {});\n",
              "        if (!dataTable) return;\n",
              "\n",
              "        const docLinkHtml = 'Like what you see? Visit the ' +\n",
              "          '<a target=\"_blank\" href=https://colab.research.google.com/notebooks/data_table.ipynb>data table notebook</a>'\n",
              "          + ' to learn more about interactive tables.';\n",
              "        element.innerHTML = '';\n",
              "        dataTable['output_type'] = 'display_data';\n",
              "        await google.colab.output.renderOutput(dataTable, element);\n",
              "        const docLink = document.createElement('div');\n",
              "        docLink.innerHTML = docLinkHtml;\n",
              "        element.appendChild(docLink);\n",
              "      }\n",
              "    </script>\n",
              "  </div>\n",
              "\n",
              "\n",
              "<div id=\"df-9ad8ca9b-2a43-4ced-b278-6fdbc93bc3ce\">\n",
              "  <button class=\"colab-df-quickchart\" onclick=\"quickchart('df-9ad8ca9b-2a43-4ced-b278-6fdbc93bc3ce')\"\n",
              "            title=\"Suggest charts\"\n",
              "            style=\"display:none;\">\n",
              "\n",
              "<svg xmlns=\"http://www.w3.org/2000/svg\" height=\"24px\"viewBox=\"0 0 24 24\"\n",
              "     width=\"24px\">\n",
              "    <g>\n",
              "        <path d=\"M19 3H5c-1.1 0-2 .9-2 2v14c0 1.1.9 2 2 2h14c1.1 0 2-.9 2-2V5c0-1.1-.9-2-2-2zM9 17H7v-7h2v7zm4 0h-2V7h2v10zm4 0h-2v-4h2v4z\"/>\n",
              "    </g>\n",
              "</svg>\n",
              "  </button>\n",
              "\n",
              "<style>\n",
              "  .colab-df-quickchart {\n",
              "      --bg-color: #E8F0FE;\n",
              "      --fill-color: #1967D2;\n",
              "      --hover-bg-color: #E2EBFA;\n",
              "      --hover-fill-color: #174EA6;\n",
              "      --disabled-fill-color: #AAA;\n",
              "      --disabled-bg-color: #DDD;\n",
              "  }\n",
              "\n",
              "  [theme=dark] .colab-df-quickchart {\n",
              "      --bg-color: #3B4455;\n",
              "      --fill-color: #D2E3FC;\n",
              "      --hover-bg-color: #434B5C;\n",
              "      --hover-fill-color: #FFFFFF;\n",
              "      --disabled-bg-color: #3B4455;\n",
              "      --disabled-fill-color: #666;\n",
              "  }\n",
              "\n",
              "  .colab-df-quickchart {\n",
              "    background-color: var(--bg-color);\n",
              "    border: none;\n",
              "    border-radius: 50%;\n",
              "    cursor: pointer;\n",
              "    display: none;\n",
              "    fill: var(--fill-color);\n",
              "    height: 32px;\n",
              "    padding: 0;\n",
              "    width: 32px;\n",
              "  }\n",
              "\n",
              "  .colab-df-quickchart:hover {\n",
              "    background-color: var(--hover-bg-color);\n",
              "    box-shadow: 0 1px 2px rgba(60, 64, 67, 0.3), 0 1px 3px 1px rgba(60, 64, 67, 0.15);\n",
              "    fill: var(--button-hover-fill-color);\n",
              "  }\n",
              "\n",
              "  .colab-df-quickchart-complete:disabled,\n",
              "  .colab-df-quickchart-complete:disabled:hover {\n",
              "    background-color: var(--disabled-bg-color);\n",
              "    fill: var(--disabled-fill-color);\n",
              "    box-shadow: none;\n",
              "  }\n",
              "\n",
              "  .colab-df-spinner {\n",
              "    border: 2px solid var(--fill-color);\n",
              "    border-color: transparent;\n",
              "    border-bottom-color: var(--fill-color);\n",
              "    animation:\n",
              "      spin 1s steps(1) infinite;\n",
              "  }\n",
              "\n",
              "  @keyframes spin {\n",
              "    0% {\n",
              "      border-color: transparent;\n",
              "      border-bottom-color: var(--fill-color);\n",
              "      border-left-color: var(--fill-color);\n",
              "    }\n",
              "    20% {\n",
              "      border-color: transparent;\n",
              "      border-left-color: var(--fill-color);\n",
              "      border-top-color: var(--fill-color);\n",
              "    }\n",
              "    30% {\n",
              "      border-color: transparent;\n",
              "      border-left-color: var(--fill-color);\n",
              "      border-top-color: var(--fill-color);\n",
              "      border-right-color: var(--fill-color);\n",
              "    }\n",
              "    40% {\n",
              "      border-color: transparent;\n",
              "      border-right-color: var(--fill-color);\n",
              "      border-top-color: var(--fill-color);\n",
              "    }\n",
              "    60% {\n",
              "      border-color: transparent;\n",
              "      border-right-color: var(--fill-color);\n",
              "    }\n",
              "    80% {\n",
              "      border-color: transparent;\n",
              "      border-right-color: var(--fill-color);\n",
              "      border-bottom-color: var(--fill-color);\n",
              "    }\n",
              "    90% {\n",
              "      border-color: transparent;\n",
              "      border-bottom-color: var(--fill-color);\n",
              "    }\n",
              "  }\n",
              "</style>\n",
              "\n",
              "  <script>\n",
              "    async function quickchart(key) {\n",
              "      const quickchartButtonEl =\n",
              "        document.querySelector('#' + key + ' button');\n",
              "      quickchartButtonEl.disabled = true;  // To prevent multiple clicks.\n",
              "      quickchartButtonEl.classList.add('colab-df-spinner');\n",
              "      try {\n",
              "        const charts = await google.colab.kernel.invokeFunction(\n",
              "            'suggestCharts', [key], {});\n",
              "      } catch (error) {\n",
              "        console.error('Error during call to suggestCharts:', error);\n",
              "      }\n",
              "      quickchartButtonEl.classList.remove('colab-df-spinner');\n",
              "      quickchartButtonEl.classList.add('colab-df-quickchart-complete');\n",
              "    }\n",
              "    (() => {\n",
              "      let quickchartButtonEl =\n",
              "        document.querySelector('#df-9ad8ca9b-2a43-4ced-b278-6fdbc93bc3ce button');\n",
              "      quickchartButtonEl.style.display =\n",
              "        google.colab.kernel.accessAllowed ? 'block' : 'none';\n",
              "    })();\n",
              "  </script>\n",
              "</div>\n",
              "    </div>\n",
              "  </div>\n"
            ]
          },
          "metadata": {},
          "execution_count": 13
        }
      ]
    },
    {
      "cell_type": "markdown",
      "source": [
        "# Decision Tree"
      ],
      "metadata": {
        "id": "SshBZWrXJ6yz"
      }
    },
    {
      "cell_type": "code",
      "source": [
        "from sklearn.feature_extraction.text import TfidfVectorizer\n",
        "tfidf = TfidfVectorizer()\n",
        "xt = tfidf.fit_transform(data_cleaned['text'])\n",
        "y = data_cleaned['sentiment']"
      ],
      "metadata": {
        "id": "dtCYhDiO73Qo"
      },
      "execution_count": 14,
      "outputs": []
    },
    {
      "cell_type": "code",
      "source": [
        "from sklearn.model_selection import train_test_split\n",
        "X_train, X_test, y_train, y_test = train_test_split(xt,\n",
        "                                                    y,\n",
        "                                                    test_size=0.33,\n",
        "                                                    random_state=42,\n",
        "                                                    )"
      ],
      "metadata": {
        "id": "-itx89YI76MO"
      },
      "execution_count": 15,
      "outputs": []
    },
    {
      "cell_type": "code",
      "source": [
        "from sklearn.tree import DecisionTreeClassifier\n",
        "# Train a Decision Tree model for feature selection\n",
        "dt_classifier = DecisionTreeClassifier(random_state=42)\n",
        "dt_classifier.fit(X_train, y_train)"
      ],
      "metadata": {
        "colab": {
          "base_uri": "https://localhost:8080/",
          "height": 74
        },
        "id": "IE2_Xkx978WC",
        "outputId": "6a4dc97d-092a-4ec5-e436-fd3e07ba3610"
      },
      "execution_count": 16,
      "outputs": [
        {
          "output_type": "execute_result",
          "data": {
            "text/plain": [
              "DecisionTreeClassifier(random_state=42)"
            ],
            "text/html": [
              "<style>#sk-container-id-1 {color: black;background-color: white;}#sk-container-id-1 pre{padding: 0;}#sk-container-id-1 div.sk-toggleable {background-color: white;}#sk-container-id-1 label.sk-toggleable__label {cursor: pointer;display: block;width: 100%;margin-bottom: 0;padding: 0.3em;box-sizing: border-box;text-align: center;}#sk-container-id-1 label.sk-toggleable__label-arrow:before {content: \"▸\";float: left;margin-right: 0.25em;color: #696969;}#sk-container-id-1 label.sk-toggleable__label-arrow:hover:before {color: black;}#sk-container-id-1 div.sk-estimator:hover label.sk-toggleable__label-arrow:before {color: black;}#sk-container-id-1 div.sk-toggleable__content {max-height: 0;max-width: 0;overflow: hidden;text-align: left;background-color: #f0f8ff;}#sk-container-id-1 div.sk-toggleable__content pre {margin: 0.2em;color: black;border-radius: 0.25em;background-color: #f0f8ff;}#sk-container-id-1 input.sk-toggleable__control:checked~div.sk-toggleable__content {max-height: 200px;max-width: 100%;overflow: auto;}#sk-container-id-1 input.sk-toggleable__control:checked~label.sk-toggleable__label-arrow:before {content: \"▾\";}#sk-container-id-1 div.sk-estimator input.sk-toggleable__control:checked~label.sk-toggleable__label {background-color: #d4ebff;}#sk-container-id-1 div.sk-label input.sk-toggleable__control:checked~label.sk-toggleable__label {background-color: #d4ebff;}#sk-container-id-1 input.sk-hidden--visually {border: 0;clip: rect(1px 1px 1px 1px);clip: rect(1px, 1px, 1px, 1px);height: 1px;margin: -1px;overflow: hidden;padding: 0;position: absolute;width: 1px;}#sk-container-id-1 div.sk-estimator {font-family: monospace;background-color: #f0f8ff;border: 1px dotted black;border-radius: 0.25em;box-sizing: border-box;margin-bottom: 0.5em;}#sk-container-id-1 div.sk-estimator:hover {background-color: #d4ebff;}#sk-container-id-1 div.sk-parallel-item::after {content: \"\";width: 100%;border-bottom: 1px solid gray;flex-grow: 1;}#sk-container-id-1 div.sk-label:hover label.sk-toggleable__label {background-color: #d4ebff;}#sk-container-id-1 div.sk-serial::before {content: \"\";position: absolute;border-left: 1px solid gray;box-sizing: border-box;top: 0;bottom: 0;left: 50%;z-index: 0;}#sk-container-id-1 div.sk-serial {display: flex;flex-direction: column;align-items: center;background-color: white;padding-right: 0.2em;padding-left: 0.2em;position: relative;}#sk-container-id-1 div.sk-item {position: relative;z-index: 1;}#sk-container-id-1 div.sk-parallel {display: flex;align-items: stretch;justify-content: center;background-color: white;position: relative;}#sk-container-id-1 div.sk-item::before, #sk-container-id-1 div.sk-parallel-item::before {content: \"\";position: absolute;border-left: 1px solid gray;box-sizing: border-box;top: 0;bottom: 0;left: 50%;z-index: -1;}#sk-container-id-1 div.sk-parallel-item {display: flex;flex-direction: column;z-index: 1;position: relative;background-color: white;}#sk-container-id-1 div.sk-parallel-item:first-child::after {align-self: flex-end;width: 50%;}#sk-container-id-1 div.sk-parallel-item:last-child::after {align-self: flex-start;width: 50%;}#sk-container-id-1 div.sk-parallel-item:only-child::after {width: 0;}#sk-container-id-1 div.sk-dashed-wrapped {border: 1px dashed gray;margin: 0 0.4em 0.5em 0.4em;box-sizing: border-box;padding-bottom: 0.4em;background-color: white;}#sk-container-id-1 div.sk-label label {font-family: monospace;font-weight: bold;display: inline-block;line-height: 1.2em;}#sk-container-id-1 div.sk-label-container {text-align: center;}#sk-container-id-1 div.sk-container {/* jupyter's `normalize.less` sets `[hidden] { display: none; }` but bootstrap.min.css set `[hidden] { display: none !important; }` so we also need the `!important` here to be able to override the default hidden behavior on the sphinx rendered scikit-learn.org. See: https://github.com/scikit-learn/scikit-learn/issues/21755 */display: inline-block !important;position: relative;}#sk-container-id-1 div.sk-text-repr-fallback {display: none;}</style><div id=\"sk-container-id-1\" class=\"sk-top-container\"><div class=\"sk-text-repr-fallback\"><pre>DecisionTreeClassifier(random_state=42)</pre><b>In a Jupyter environment, please rerun this cell to show the HTML representation or trust the notebook. <br />On GitHub, the HTML representation is unable to render, please try loading this page with nbviewer.org.</b></div><div class=\"sk-container\" hidden><div class=\"sk-item\"><div class=\"sk-estimator sk-toggleable\"><input class=\"sk-toggleable__control sk-hidden--visually\" id=\"sk-estimator-id-1\" type=\"checkbox\" checked><label for=\"sk-estimator-id-1\" class=\"sk-toggleable__label sk-toggleable__label-arrow\">DecisionTreeClassifier</label><div class=\"sk-toggleable__content\"><pre>DecisionTreeClassifier(random_state=42)</pre></div></div></div></div></div>"
            ]
          },
          "metadata": {},
          "execution_count": 16
        }
      ]
    },
    {
      "cell_type": "code",
      "source": [
        "from sklearn.feature_selection import SelectFromModel\n",
        "# Get feature importance scores\n",
        "feature_importances = dt_classifier.feature_importances_\n",
        "\n",
        "# Select the most important features\n",
        "sfm = SelectFromModel(dt_classifier, threshold='mean')\n",
        "X_train_selected = sfm.transform(X_train)\n",
        "X_test_selected = sfm.transform(X_test)"
      ],
      "metadata": {
        "id": "W9S8LJYD797L"
      },
      "execution_count": 17,
      "outputs": []
    },
    {
      "cell_type": "code",
      "source": [
        "# Access the selected features and their indices\n",
        "selected_feature_indices = sfm.get_support(indices=True)\n",
        "\n",
        "# Print the selected feature indices\n",
        "print(\"Selected Feature Indices:\", selected_feature_indices)\n",
        "\n",
        "# Access the selected features in the training and testing sets\n",
        "X_train_selected_features = X_train[:, selected_feature_indices]\n",
        "X_test_selected_features = X_test[:, selected_feature_indices]"
      ],
      "metadata": {
        "colab": {
          "base_uri": "https://localhost:8080/"
        },
        "id": "msB-0tR48AOg",
        "outputId": "22e4daf6-ae75-4760-cb25-8561ee38dbb1"
      },
      "execution_count": 18,
      "outputs": [
        {
          "output_type": "stream",
          "name": "stdout",
          "text": [
            "Selected Feature Indices: [  15   27   32   38   67   85   93   96  121  142  160  161  169  228\n",
            "  229  243  286  315  316  419  449  471  496  535  547  558  577  690\n",
            "  700  704  720  778  779  790  802  810  923  932  978  988  992 1007\n",
            " 1021 1026 1034 1077 1094 1107 1120 1135 1143 1189 1226 1265 1281 1297\n",
            " 1314 1323 1337 1369 1392 1468 1493 1532 1577 1588 1611 1618 1628 1631\n",
            " 1636 1647 1679 1680 1681 1687 1693 1694 1738 1739 1793 1828 1835 1859\n",
            " 1869 1878 1883 1932 1938 1943]\n"
          ]
        }
      ]
    },
    {
      "cell_type": "code",
      "source": [],
      "metadata": {
        "id": "4NK5fAk78CLC"
      },
      "execution_count": null,
      "outputs": []
    },
    {
      "cell_type": "markdown",
      "source": [
        "# RNN"
      ],
      "metadata": {
        "id": "u2lA2390J2px"
      }
    },
    {
      "cell_type": "code",
      "source": [
        "from keras.models import Sequential\n",
        "from keras.layers import Embedding, LSTM, SpatialDropout1D, Dense\n",
        "from keras.preprocessing.text import Tokenizer\n",
        "from keras.preprocessing.sequence import pad_sequences\n",
        "from sklearn.model_selection import train_test_split\n",
        "\n",
        "max_features = 5000\n",
        "embed_dim = 128\n",
        "lstm_out = 128\n",
        "\n",
        "tokenizer = Tokenizer(num_words=max_features, split=' ')\n",
        "tokenizer.fit_on_texts(data_cleaned['text'].values)\n",
        "X = tokenizer.texts_to_sequences(data_cleaned['text'].values)\n",
        "X = pad_sequences(X)\n",
        "\n",
        "model = Sequential()\n",
        "model.add(Embedding(max_features, embed_dim, input_length=X.shape[1]))\n",
        "model.add(SpatialDropout1D(0.4))\n",
        "model.add(LSTM(lstm_out, dropout=0.2, recurrent_dropout=0.2))\n",
        "model.add(Dense(2, activation='softmax'))\n",
        "\n",
        "model.compile(loss='categorical_crossentropy', optimizer='adam', metrics=['accuracy'])\n",
        "print(model.summary())\n",
        "\n",
        "Y = pd.get_dummies(data_cleaned['sentiment']).values\n",
        "# Use stratified sampling for train-test split to ensure balanced classes\n",
        "X_train2, X_test2, Y_train2, Y_test2 = train_test_split(X, Y, test_size=0.33, random_state=42, stratify=Y)\n",
        "\n",
        "batch_size = 32\n",
        "model.fit(X_train2, Y_train2, epochs=20, batch_size=batch_size, verbose=2, validation_split=0.2)\n",
        "\n",
        "# Evaluate on the test set\n",
        "score, acc = model.evaluate(X_test2, Y_test2, verbose=2, batch_size=batch_size)\n",
        "print(\"Test Score: %.2f\" % (score))\n",
        "print(\"Test Accuracy: %.2f\" % (acc))\n"
      ],
      "metadata": {
        "colab": {
          "base_uri": "https://localhost:8080/"
        },
        "id": "RXwX3p7m8E1r",
        "outputId": "538a7a82-1414-4967-ef4c-7c7a3a5ad006"
      },
      "execution_count": 20,
      "outputs": [
        {
          "output_type": "stream",
          "name": "stdout",
          "text": [
            "Model: \"sequential_1\"\n",
            "_________________________________________________________________\n",
            " Layer (type)                Output Shape              Param #   \n",
            "=================================================================\n",
            " embedding_1 (Embedding)     (None, 24, 128)           640000    \n",
            "                                                                 \n",
            " spatial_dropout1d_1 (Spati  (None, 24, 128)           0         \n",
            " alDropout1D)                                                    \n",
            "                                                                 \n",
            " lstm_1 (LSTM)               (None, 128)               131584    \n",
            "                                                                 \n",
            " dense_1 (Dense)             (None, 2)                 258       \n",
            "                                                                 \n",
            "=================================================================\n",
            "Total params: 771842 (2.94 MB)\n",
            "Trainable params: 771842 (2.94 MB)\n",
            "Non-trainable params: 0 (0.00 Byte)\n",
            "_________________________________________________________________\n",
            "None\n",
            "Epoch 1/20\n",
            "10/10 - 7s - loss: 0.6591 - accuracy: 0.6403 - val_loss: 0.6042 - val_accuracy: 0.7237 - 7s/epoch - 745ms/step\n",
            "Epoch 2/20\n",
            "10/10 - 1s - loss: 0.6239 - accuracy: 0.6733 - val_loss: 0.6058 - val_accuracy: 0.7237 - 814ms/epoch - 81ms/step\n",
            "Epoch 3/20\n",
            "10/10 - 1s - loss: 0.6013 - accuracy: 0.6733 - val_loss: 0.6065 - val_accuracy: 0.7237 - 820ms/epoch - 82ms/step\n",
            "Epoch 4/20\n",
            "10/10 - 1s - loss: 0.5640 - accuracy: 0.6997 - val_loss: 0.5952 - val_accuracy: 0.7237 - 849ms/epoch - 85ms/step\n",
            "Epoch 5/20\n",
            "10/10 - 1s - loss: 0.4955 - accuracy: 0.7327 - val_loss: 0.5879 - val_accuracy: 0.6974 - 806ms/epoch - 81ms/step\n",
            "Epoch 6/20\n",
            "10/10 - 1s - loss: 0.3453 - accuracy: 0.8647 - val_loss: 0.5937 - val_accuracy: 0.7105 - 803ms/epoch - 80ms/step\n",
            "Epoch 7/20\n",
            "10/10 - 1s - loss: 0.2203 - accuracy: 0.9274 - val_loss: 0.6722 - val_accuracy: 0.7105 - 819ms/epoch - 82ms/step\n",
            "Epoch 8/20\n",
            "10/10 - 1s - loss: 0.1640 - accuracy: 0.9670 - val_loss: 0.7663 - val_accuracy: 0.6711 - 826ms/epoch - 83ms/step\n",
            "Epoch 9/20\n",
            "10/10 - 1s - loss: 0.1028 - accuracy: 0.9835 - val_loss: 0.7795 - val_accuracy: 0.7500 - 998ms/epoch - 100ms/step\n",
            "Epoch 10/20\n",
            "10/10 - 1s - loss: 0.0631 - accuracy: 0.9901 - val_loss: 0.8524 - val_accuracy: 0.6711 - 1s/epoch - 146ms/step\n",
            "Epoch 11/20\n",
            "10/10 - 1s - loss: 0.0475 - accuracy: 0.9901 - val_loss: 1.0042 - val_accuracy: 0.6711 - 1s/epoch - 147ms/step\n",
            "Epoch 12/20\n",
            "10/10 - 2s - loss: 0.1071 - accuracy: 0.9637 - val_loss: 1.0126 - val_accuracy: 0.5395 - 2s/epoch - 228ms/step\n",
            "Epoch 13/20\n",
            "10/10 - 2s - loss: 0.1029 - accuracy: 0.9637 - val_loss: 0.8286 - val_accuracy: 0.6316 - 2s/epoch - 178ms/step\n",
            "Epoch 14/20\n",
            "10/10 - 1s - loss: 0.0583 - accuracy: 0.9868 - val_loss: 0.9194 - val_accuracy: 0.6711 - 799ms/epoch - 80ms/step\n",
            "Epoch 15/20\n",
            "10/10 - 1s - loss: 0.0423 - accuracy: 0.9901 - val_loss: 0.8440 - val_accuracy: 0.6842 - 813ms/epoch - 81ms/step\n",
            "Epoch 16/20\n",
            "10/10 - 1s - loss: 0.0316 - accuracy: 0.9967 - val_loss: 0.8606 - val_accuracy: 0.6842 - 812ms/epoch - 81ms/step\n",
            "Epoch 17/20\n",
            "10/10 - 1s - loss: 0.0168 - accuracy: 1.0000 - val_loss: 0.9138 - val_accuracy: 0.6974 - 836ms/epoch - 84ms/step\n",
            "Epoch 18/20\n",
            "10/10 - 1s - loss: 0.0167 - accuracy: 0.9967 - val_loss: 0.9420 - val_accuracy: 0.6974 - 774ms/epoch - 77ms/step\n",
            "Epoch 19/20\n",
            "10/10 - 1s - loss: 0.0118 - accuracy: 0.9967 - val_loss: 0.9618 - val_accuracy: 0.7105 - 768ms/epoch - 77ms/step\n",
            "Epoch 20/20\n",
            "10/10 - 1s - loss: 0.0102 - accuracy: 0.9967 - val_loss: 1.0046 - val_accuracy: 0.7105 - 792ms/epoch - 79ms/step\n",
            "6/6 - 0s - loss: 1.1356 - accuracy: 0.6471 - 83ms/epoch - 14ms/step\n",
            "Test Score: 1.14\n",
            "Test Accuracy: 0.65\n"
          ]
        }
      ]
    },
    {
      "cell_type": "markdown",
      "source": [
        "# **Hybrid Model**"
      ],
      "metadata": {
        "id": "jTRG22KiJl1v"
      }
    },
    {
      "cell_type": "code",
      "source": [
        "last_lstm_layer = model.get_layer('lstm_1')\n",
        "output_size_of_lstm = last_lstm_layer.output_shape[-1]"
      ],
      "metadata": {
        "id": "NwPQ80FH_T1P"
      },
      "execution_count": 30,
      "outputs": []
    },
    {
      "cell_type": "code",
      "source": [
        "from keras.models import Model\n",
        "from keras.layers import Input, concatenate, Dense, Embedding, LSTM, SpatialDropout1D\n",
        "from sklearn.model_selection import train_test_split\n",
        "\n",
        "input_dt = Input(shape=(X_train_selected_features.shape[1],))\n",
        "input_lstm = Input(shape=(X_train2.shape[1],))\n",
        "\n",
        "# Define Decision Tree branch\n",
        "dt_branch = Dense(32, activation='relu')(input_dt)\n",
        "\n",
        "# Define LSTM branch\n",
        "lstm_branch = Embedding(max_features, embed_dim, input_length=X_train2.shape[1])(input_lstm)\n",
        "lstm_branch = SpatialDropout1D(0.4)(lstm_branch)\n",
        "lstm_branch = LSTM(lstm_out, dropout=0.2, recurrent_dropout=0.2)(lstm_branch)\n",
        "\n",
        "# Concatenate both branches\n",
        "merged = concatenate([dt_branch, lstm_branch])\n",
        "\n",
        "# Additional Dense layer for combining features\n",
        "combined = Dense(32, activation='relu')(merged)\n",
        "\n",
        "# Output layer\n",
        "output_layer = Dense(2, activation='softmax')(combined)\n",
        "\n",
        "# Create the hybrid model\n",
        "hybrid_model = Model(inputs=[input_dt, input_lstm], outputs=output_layer)\n",
        "\n",
        "hybrid_model.compile(optimizer='adam', loss='categorical_crossentropy', metrics=['accuracy'])\n",
        "print(hybrid_model.summary())\n"
      ],
      "metadata": {
        "colab": {
          "base_uri": "https://localhost:8080/"
        },
        "id": "U9IFTcFpC6fL",
        "outputId": "6034fb7c-3d99-4d21-b35d-6877f84f6195"
      },
      "execution_count": 36,
      "outputs": [
        {
          "output_type": "stream",
          "name": "stdout",
          "text": [
            "Model: \"model_6\"\n",
            "__________________________________________________________________________________________________\n",
            " Layer (type)                Output Shape                 Param #   Connected to                  \n",
            "==================================================================================================\n",
            " input_15 (InputLayer)       [(None, 24)]                 0         []                            \n",
            "                                                                                                  \n",
            " embedding_2 (Embedding)     (None, 24, 128)              640000    ['input_15[0][0]']            \n",
            "                                                                                                  \n",
            " input_14 (InputLayer)       [(None, 90)]                 0         []                            \n",
            "                                                                                                  \n",
            " spatial_dropout1d_2 (Spati  (None, 24, 128)              0         ['embedding_2[0][0]']         \n",
            " alDropout1D)                                                                                     \n",
            "                                                                                                  \n",
            " dense_14 (Dense)            (None, 32)                   2912      ['input_14[0][0]']            \n",
            "                                                                                                  \n",
            " lstm_2 (LSTM)               (None, 128)                  131584    ['spatial_dropout1d_2[0][0]'] \n",
            "                                                                                                  \n",
            " concatenate_6 (Concatenate  (None, 160)                  0         ['dense_14[0][0]',            \n",
            " )                                                                   'lstm_2[0][0]']              \n",
            "                                                                                                  \n",
            " dense_15 (Dense)            (None, 32)                   5152      ['concatenate_6[0][0]']       \n",
            "                                                                                                  \n",
            " dense_16 (Dense)            (None, 2)                    66        ['dense_15[0][0]']            \n",
            "                                                                                                  \n",
            "==================================================================================================\n",
            "Total params: 779714 (2.97 MB)\n",
            "Trainable params: 779714 (2.97 MB)\n",
            "Non-trainable params: 0 (0.00 Byte)\n",
            "__________________________________________________________________________________________________\n",
            "None\n"
          ]
        }
      ]
    },
    {
      "cell_type": "code",
      "source": [
        "from sklearn.model_selection import train_test_split\n",
        "\n",
        "X_train_dt, X_test_dt, X_train_lstm, X_test_lstm, Y_train, Y_test = train_test_split(\n",
        "    X_train_selected_features, X_train2, Y_train2, test_size=0.33, random_state=42\n",
        ")\n",
        "\n"
      ],
      "metadata": {
        "id": "jopyA_pIDJ-m"
      },
      "execution_count": 53,
      "outputs": []
    },
    {
      "cell_type": "code",
      "source": [
        "# Train the hybrid model\n",
        "hybrid_model.fit([X_train_dt, X_train_lstm], Y_train, epochs=20, batch_size=batch_size, validation_split=0.2)\n",
        "\n",
        "# Evaluate on the test set\n",
        "score, acc = hybrid_model.evaluate([X_test_dt, X_test_lstm], Y_test, verbose=2, batch_size=batch_size)\n"
      ],
      "metadata": {
        "colab": {
          "base_uri": "https://localhost:8080/"
        },
        "id": "tvSpBE5eIubP",
        "outputId": "6ef79029-6507-4cc7-aace-7ecfd28a5ea4"
      },
      "execution_count": 54,
      "outputs": [
        {
          "output_type": "stream",
          "name": "stdout",
          "text": [
            "Epoch 1/20\n",
            "7/7 [==============================] - 8s 266ms/step - loss: 0.6886 - accuracy: 0.5495 - val_loss: 0.6574 - val_accuracy: 0.7059\n",
            "Epoch 2/20\n",
            "7/7 [==============================] - 1s 100ms/step - loss: 0.6286 - accuracy: 0.6931 - val_loss: 0.6327 - val_accuracy: 0.7059\n",
            "Epoch 3/20\n",
            "7/7 [==============================] - 1s 86ms/step - loss: 0.6053 - accuracy: 0.6931 - val_loss: 0.6171 - val_accuracy: 0.7059\n",
            "Epoch 4/20\n",
            "7/7 [==============================] - 1s 91ms/step - loss: 0.5980 - accuracy: 0.6931 - val_loss: 0.6151 - val_accuracy: 0.7059\n",
            "Epoch 5/20\n",
            "7/7 [==============================] - 1s 86ms/step - loss: 0.5654 - accuracy: 0.6931 - val_loss: 0.6195 - val_accuracy: 0.7059\n",
            "Epoch 6/20\n",
            "7/7 [==============================] - 1s 91ms/step - loss: 0.5368 - accuracy: 0.7079 - val_loss: 0.6161 - val_accuracy: 0.7059\n",
            "Epoch 7/20\n",
            "7/7 [==============================] - 1s 83ms/step - loss: 0.4775 - accuracy: 0.7624 - val_loss: 0.6259 - val_accuracy: 0.7059\n",
            "Epoch 8/20\n",
            "7/7 [==============================] - 1s 96ms/step - loss: 0.3511 - accuracy: 0.8861 - val_loss: 0.7556 - val_accuracy: 0.5098\n",
            "Epoch 9/20\n",
            "7/7 [==============================] - 1s 88ms/step - loss: 0.2100 - accuracy: 0.9208 - val_loss: 0.8230 - val_accuracy: 0.6667\n",
            "Epoch 10/20\n",
            "7/7 [==============================] - 1s 92ms/step - loss: 0.1952 - accuracy: 0.9455 - val_loss: 0.6811 - val_accuracy: 0.6078\n",
            "Epoch 11/20\n",
            "7/7 [==============================] - 1s 102ms/step - loss: 0.1795 - accuracy: 0.9653 - val_loss: 0.6510 - val_accuracy: 0.7059\n",
            "Epoch 12/20\n",
            "7/7 [==============================] - 1s 84ms/step - loss: 0.1041 - accuracy: 0.9802 - val_loss: 0.6851 - val_accuracy: 0.7059\n",
            "Epoch 13/20\n",
            "7/7 [==============================] - 1s 94ms/step - loss: 0.0465 - accuracy: 1.0000 - val_loss: 0.8208 - val_accuracy: 0.7255\n",
            "Epoch 14/20\n",
            "7/7 [==============================] - 1s 94ms/step - loss: 0.0216 - accuracy: 1.0000 - val_loss: 1.0285 - val_accuracy: 0.7059\n",
            "Epoch 15/20\n",
            "7/7 [==============================] - 1s 82ms/step - loss: 0.0166 - accuracy: 1.0000 - val_loss: 1.1578 - val_accuracy: 0.6863\n",
            "Epoch 16/20\n",
            "7/7 [==============================] - 1s 85ms/step - loss: 0.0171 - accuracy: 0.9901 - val_loss: 1.1745 - val_accuracy: 0.7255\n",
            "Epoch 17/20\n",
            "7/7 [==============================] - 1s 82ms/step - loss: 0.0257 - accuracy: 0.9901 - val_loss: 1.1480 - val_accuracy: 0.6863\n",
            "Epoch 18/20\n",
            "7/7 [==============================] - 1s 135ms/step - loss: 0.0128 - accuracy: 1.0000 - val_loss: 0.9681 - val_accuracy: 0.6667\n",
            "Epoch 19/20\n",
            "7/7 [==============================] - 1s 147ms/step - loss: 0.0080 - accuracy: 1.0000 - val_loss: 1.0108 - val_accuracy: 0.6667\n",
            "Epoch 20/20\n",
            "7/7 [==============================] - 1s 150ms/step - loss: 0.0103 - accuracy: 1.0000 - val_loss: 1.0128 - val_accuracy: 0.6667\n",
            "4/4 - 0s - loss: 0.9878 - accuracy: 0.6190 - 61ms/epoch - 15ms/step\n",
            "Test Score: 0.99\n",
            "Test Accuracy: 0.62\n"
          ]
        }
      ]
    }
  ]
}